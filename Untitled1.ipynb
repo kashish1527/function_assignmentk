{
  "nbformat": 4,
  "nbformat_minor": 0,
  "metadata": {
    "colab": {
      "provenance": []
    },
    "kernelspec": {
      "name": "python3",
      "display_name": "Python 3"
    },
    "language_info": {
      "name": "python"
    }
  },
  "cells": [
    {
      "cell_type": "markdown",
      "source": [
        "* PRACTICAL QUESTION AND ANSWER"
      ],
      "metadata": {
        "id": "5melDMJFt0bj"
      }
    },
    {
      "cell_type": "markdown",
      "source": [
        "#1. Write a Python function that takes a list of numbers as input and returns the sum of all even numbers in the list\n"
      ],
      "metadata": {
        "id": "iZCtpMTVtyfd"
      }
    },
    {
      "cell_type": "code",
      "source": [
        "def sum_even_numbers(numbers):\n",
        "    return sum(num for num in numbers if num % 2 == 0)\n",
        "\n",
        "numbers = [1, 2, 3, 4, 5]\n",
        "print(sum_even_numbers(numbers))"
      ],
      "metadata": {
        "colab": {
          "base_uri": "https://localhost:8080/"
        },
        "id": "DJi0dSGht-hG",
        "outputId": "070bbe82-3cac-4f7f-cefe-755c331c0370"
      },
      "execution_count": 3,
      "outputs": [
        {
          "output_type": "stream",
          "name": "stdout",
          "text": [
            "6\n"
          ]
        }
      ]
    },
    {
      "cell_type": "markdown",
      "source": [
        "#2. Create a Python function that accepts a string and returns the reverse of that string?\n"
      ],
      "metadata": {
        "id": "o3j5a_DLuQpu"
      }
    },
    {
      "cell_type": "code",
      "source": [
        "def reverse_string(s):\n",
        "    return s[::-1]\n",
        "\n",
        "input_string = \"Kashish\"\n",
        "reversed_string = reverse_string(input_string)\n",
        "print(reversed_string)"
      ],
      "metadata": {
        "colab": {
          "base_uri": "https://localhost:8080/"
        },
        "id": "yydn_5m8uRZX",
        "outputId": "0deebf13-d29f-4930-baca-33036fb02405"
      },
      "execution_count": 4,
      "outputs": [
        {
          "output_type": "stream",
          "name": "stdout",
          "text": [
            "hsihsaK\n"
          ]
        }
      ]
    },
    {
      "cell_type": "markdown",
      "source": [
        "#3. Implement a Python function that takes a list of integers and returns a new list containing the squares of each number?\n"
      ],
      "metadata": {
        "id": "UXw0y2UsunZi"
      }
    },
    {
      "cell_type": "code",
      "source": [
        "def square_list(numbers):\n",
        "    return [num ** 2 for num in numbers]\n",
        "\n",
        "nums = [10, 20, 30, 40, 50]\n",
        "squared_nums = square_list(nums)\n",
        "print(squared_nums)"
      ],
      "metadata": {
        "colab": {
          "base_uri": "https://localhost:8080/"
        },
        "id": "gKrmO11_uoAK",
        "outputId": "60a58933-597b-4300-8a8b-6be0e919f4a5"
      },
      "execution_count": 6,
      "outputs": [
        {
          "output_type": "stream",
          "name": "stdout",
          "text": [
            "[100, 400, 900, 1600, 2500]\n"
          ]
        }
      ]
    },
    {
      "cell_type": "markdown",
      "source": [
        "#4. Write a Python function that checks if a given number is prime or not from 1 to 200?"
      ],
      "metadata": {
        "id": "2egATZZ3vDNk"
      }
    },
    {
      "cell_type": "code",
      "source": [
        "def is_prime(n):\n",
        "    if n < 10:\n",
        "        return False\n",
        "    for i in range(10, int(n ** 0.5) + 1):\n",
        "        if n % i == 0:\n",
        "            return False\n",
        "    return True\n",
        "\n",
        "prime_numbers = [num for num in range(1, 201) if is_prime(num)]\n",
        "print(prime_numbers)"
      ],
      "metadata": {
        "colab": {
          "base_uri": "https://localhost:8080/"
        },
        "id": "s0jHiJXxvPLO",
        "outputId": "3f72e1f8-96e9-47fe-b0b0-100d401bbf23"
      },
      "execution_count": 9,
      "outputs": [
        {
          "output_type": "stream",
          "name": "stdout",
          "text": [
            "[10, 11, 12, 13, 14, 15, 16, 17, 18, 19, 20, 21, 22, 23, 24, 25, 26, 27, 28, 29, 30, 31, 32, 33, 34, 35, 36, 37, 38, 39, 40, 41, 42, 43, 44, 45, 46, 47, 48, 49, 50, 51, 52, 53, 54, 55, 56, 57, 58, 59, 60, 61, 62, 63, 64, 65, 66, 67, 68, 69, 70, 71, 72, 73, 74, 75, 76, 77, 78, 79, 80, 81, 82, 83, 84, 85, 86, 87, 88, 89, 90, 91, 92, 93, 94, 95, 96, 97, 98, 99, 101, 102, 103, 104, 105, 106, 107, 108, 109, 111, 112, 113, 114, 115, 116, 117, 118, 119, 122, 123, 124, 125, 126, 127, 128, 129, 131, 133, 134, 135, 136, 137, 138, 139, 141, 142, 145, 146, 147, 148, 149, 151, 152, 153, 155, 157, 158, 159, 161, 162, 163, 164, 166, 167, 171, 172, 173, 174, 175, 177, 178, 179, 181, 183, 184, 185, 186, 188, 189, 191, 193, 194, 197, 199]\n"
          ]
        }
      ]
    },
    {
      "cell_type": "markdown",
      "source": [
        "#5. Create an iterator class in Python that generates the Fibonacci sequence up to a specified number of terms?\n"
      ],
      "metadata": {
        "id": "MwVXR2m5vcdN"
      }
    },
    {
      "cell_type": "code",
      "source": [
        "class FibonacciIterator:\n",
        "    def __init__(self, n_terms):\n",
        "        self.n_terms = n_terms\n",
        "        self.a, self.b = 0, 1\n",
        "        self.count = 0\n",
        "\n",
        "    def __iter__(self):\n",
        "        return self\n",
        "\n",
        "    def __next__(self):\n",
        "        if self.count >= self.n_terms:\n",
        "            raise StopIteration\n",
        "        if self.count == 0:\n",
        "            self.count += 1\n",
        "            return self.a\n",
        "        elif self.count == 1:\n",
        "            self.count += 1\n",
        "            return self.b\n",
        "        else:\n",
        "            self.a, self.b = self.b, self.a + self.b\n",
        "            self.count += 1\n",
        "            return self.a\n",
        "\n",
        "# Usage\n",
        "fib_iter = FibonacciIterator(20)\n",
        "for num in fib_iter:\n",
        "    print(num, end=\" \")\n"
      ],
      "metadata": {
        "colab": {
          "base_uri": "https://localhost:8080/"
        },
        "id": "L5s2CqsXvgHb",
        "outputId": "19e7fcf6-62e1-4525-ed75-6626d8deba4f"
      },
      "execution_count": 13,
      "outputs": [
        {
          "output_type": "stream",
          "name": "stdout",
          "text": [
            "0 1 1 1 2 3 5 8 13 21 34 55 89 144 233 377 610 987 1597 2584 "
          ]
        }
      ]
    },
    {
      "cell_type": "markdown",
      "source": [
        "#6. Write a generator function in Python that yields the powers of 2 up to a given exponent?"
      ],
      "metadata": {
        "id": "xvluQwKHwP2z"
      }
    },
    {
      "cell_type": "code",
      "source": [
        "def powers_of_two(max_exponent):\n",
        "    for exp in range(max_exponent + 1):\n",
        "        yield 2 ** exp\n",
        "\n",
        "for power in powers_of_two(10):\n",
        "    print(power, end=\" \")"
      ],
      "metadata": {
        "colab": {
          "base_uri": "https://localhost:8080/"
        },
        "id": "vKdOs4RfwiDz",
        "outputId": "2aab6c4a-fccd-4f04-bf8f-b340b46cf168"
      },
      "execution_count": 14,
      "outputs": [
        {
          "output_type": "stream",
          "name": "stdout",
          "text": [
            "1 2 4 8 16 32 64 128 256 512 1024 "
          ]
        }
      ]
    },
    {
      "cell_type": "markdown",
      "source": [
        "#7. Implement a generator function that reads a file line by line and yields each line as a string?\n"
      ],
      "metadata": {
        "id": "Cy5L41OWwrn7"
      }
    },
    {
      "cell_type": "code",
      "source": [
        "def read_file(file_path):\n",
        "    \"\"\"\n",
        "    Generator function to read a file line by line.\n",
        "\n",
        "    Args:\n",
        "        file_path (str): The path to the file.\n",
        "\n",
        "    Yields:\n",
        "        str: The next line in the file, stripped of leading/trailing whitespace.\n",
        "    \"\"\"\n",
        "    try:\n",
        "        with open(file_path, 'r') as file:\n",
        "            for line in file:\n",
        "                yield line.strip()\n",
        "    except FileNotFoundError:\n",
        "        print(f\"Error: The file '{file_path}' was not found.\")\n",
        "    except Exception as e:\n",
        "        print(f\"An error occurred: {e}\")\n"
      ],
      "metadata": {
        "id": "7wX1EY-9wsJl"
      },
      "execution_count": 27,
      "outputs": []
    },
    {
      "cell_type": "markdown",
      "source": [
        "#8. Use a lambda function in Python to sort a list of tuples based on the second element of each tuple?"
      ],
      "metadata": {
        "id": "t1K6AtAhxV6I"
      }
    },
    {
      "cell_type": "code",
      "source": [
        "tuples_list = [(1, 5), (2, 3), (4, 1), (3, 8)]\n",
        "\n",
        "sorted_list = sorted(tuples_list, key=lambda x: x[1])\n",
        "\n",
        "print(sorted_list)"
      ],
      "metadata": {
        "colab": {
          "base_uri": "https://localhost:8080/"
        },
        "id": "V7GSFnwIxapq",
        "outputId": "994d307b-c685-48c3-ce8a-acd0e194df6b"
      },
      "execution_count": 19,
      "outputs": [
        {
          "output_type": "stream",
          "name": "stdout",
          "text": [
            "[(4, 1), (2, 3), (1, 5), (3, 8)]\n"
          ]
        }
      ]
    },
    {
      "cell_type": "markdown",
      "source": [
        "#9. Write a Python program that uses map() to convert a list of temperatures from Celsius to Fahrenheit?"
      ],
      "metadata": {
        "id": "_RihEA98xi57"
      }
    },
    {
      "cell_type": "code",
      "source": [
        "def celsius_to_fahrenheit(celsius):\n",
        "    return (celsius * 9/5) + 32\n",
        "\n",
        "temperatures = [0, 10, 20, 30]\n",
        "fahrenheit = list(map(celsius_to_fahrenheit, temperatures))\n",
        "print(fahrenheit)"
      ],
      "metadata": {
        "colab": {
          "base_uri": "https://localhost:8080/"
        },
        "id": "JCkwCUfSxjW_",
        "outputId": "b7d6240d-59c5-4440-a7c9-91020c9861aa"
      },
      "execution_count": 20,
      "outputs": [
        {
          "output_type": "stream",
          "name": "stdout",
          "text": [
            "[32.0, 50.0, 68.0, 86.0]\n"
          ]
        }
      ]
    },
    {
      "cell_type": "markdown",
      "source": [
        "#10. Create a Python program that uses filter() to remove all the vowels from a given string?"
      ],
      "metadata": {
        "id": "iq1imqKexrSy"
      }
    },
    {
      "cell_type": "code",
      "source": [
        "def remove_vowels(s):\n",
        "    vowels = 'aeiouAEIOU'\n",
        "    return ''.join(filter(lambda x: x not in vowels, s))\n",
        "\n",
        "# Example\n",
        "print(remove_vowels(\"Hello Python\"))"
      ],
      "metadata": {
        "colab": {
          "base_uri": "https://localhost:8080/"
        },
        "id": "0TMj-gOdxsOn",
        "outputId": "8f557e1a-4f7c-49e6-f5a2-d6a1df15d17c"
      },
      "execution_count": 21,
      "outputs": [
        {
          "output_type": "stream",
          "name": "stdout",
          "text": [
            "Hll Pythn\n"
          ]
        }
      ]
    },
    {
      "cell_type": "markdown",
      "source": [
        "#11. Write a Python program, which returns a list with 2-tuples. Each tuple consists of the order number and the\n",
        "#product of the price per item and the quantity. The product should be increased by 10,- € if the value of the\n",
        "#order is smaller than 100,00 €."
      ],
      "metadata": {
        "id": "liHk5oIGyAtp"
      }
    },
    {
      "cell_type": "code",
      "source": [
        "orders = [\n",
        "    [101, 5, 20],\n",
        "    [102, 2, 50],\n",
        "    [103, 1, 90],\n",
        "    [104, 3, 15]\n",
        "]\n",
        "\n",
        "result = list(map(lambda x: (x[0], (x[1] * x[2]) + 10 if (x[1] * x[2]) < 100 else x[1] * x[2]), orders))\n",
        "\n",
        "print(result)"
      ],
      "metadata": {
        "colab": {
          "base_uri": "https://localhost:8080/"
        },
        "id": "kq25-rB3yBUp",
        "outputId": "e7918c1e-1762-41e3-8d66-d9d9bfa0d6d1"
      },
      "execution_count": 25,
      "outputs": [
        {
          "output_type": "stream",
          "name": "stdout",
          "text": [
            "[(101, 100), (102, 100), (103, 100), (104, 55)]\n"
          ]
        }
      ]
    }
  ]
}